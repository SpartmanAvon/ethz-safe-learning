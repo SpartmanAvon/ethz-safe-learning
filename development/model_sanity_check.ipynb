{
 "cells": [
  {
   "cell_type": "markdown",
   "metadata": {},
   "source": [
    "# COVID-19 Spread Toy Example\n",
    "## Initilization Anchored NN Ensemble Sanity Check\n"
   ]
  },
  {
   "cell_type": "markdown",
   "metadata": {},
   "source": [
    "In this notebook I want to demonstrate that my tensorflow implementation of the ensemble neural network is actually working and useful. In the spirit of times, I will try to learn the _hypothetical_ spreading of the COVID-19 disease in the _hypothetical_ island of Wakanda through the period of one year."
   ]
  },
  {
   "cell_type": "code",
   "execution_count": 10,
   "metadata": {},
   "outputs": [],
   "source": [
    "from simba.infrastructure import MLPEnsemble, InitializationAnchoredNN\n",
    "import tensorflow as tf\n",
    "import numpy as np\n",
    "from scipy.integrate import odeint\n",
    "import matplotlib.pyplot as plt\n",
    "tf.set_random_seed(0)\n",
    "np.random.seed(0)"
   ]
  },
  {
   "cell_type": "markdown",
   "metadata": {},
   "source": [
    "First we generate some data using the [SIR model](https://www.lewuathe.com/covid-19-dynamics-with-sir-model.html) of covid19: "
   ]
  },
  {
   "cell_type": "code",
   "execution_count": 11,
   "metadata": {},
   "outputs": [
    {
     "data": {
      "image/png": "[encoded data removed]",
      "text/plain": [
       "<Figure size 432x288 with 1 Axes>"
      ]
     },
     "metadata": {
      "needs_background": "light"
     },
     "output_type": "display_data"
    }
   ],
   "source": [
    "def f(x):\n",
    "    return x**2-6*x+9\n",
    "def data_generator(x,sigma_0,samples):\n",
    "    return np.random.normal(f(x),sigma_0*x,samples)\n",
    "n_samples = 50\n",
    "noise = 0.1\n",
    "inputs = np.array([])\n",
    "targets = np.array([])\n",
    "time = np.arange(1,5.2,0.2)\n",
    "for day in time:\n",
    "    inputs = np.append(inputs, np.full(n_samples, day))\n",
    "    targets = np.append(targets, data_generator(day, noise, n_samples))\n",
    "plt.scatter(inputs, targets)\n",
    "plt.show()"
   ]
  },
  {
   "cell_type": "code",
   "execution_count": 4,
   "metadata": {},
   "outputs": [],
   "source": [
    "def generate_covid_19_infection_rate_data():\n",
    "    # https://www.lewuathe.com/covid-19-dynamics-with-sir-model.html\n",
    "    # https://scipython.com/book/chapter-8-scipy/additional-examples/the-sir-epidemic-model/\n",
    "    population = 15000\n",
    "    days = 365\n",
    "    i_0, r_0 = 2, 0\n",
    "    s_0 = population - i_0 - r_0\n",
    "    beta, gamma = 0.3, 0.02\n",
    "    t = np.linspace(0, days, days)\n",
    "\n",
    "    def deriv(y, t, population, beta, gamma):\n",
    "        S, I, R = y\n",
    "        dSdt = -beta * S * I / population\n",
    "        dIdt = beta * S * I / population - gamma * I\n",
    "        dRdt = gamma * I\n",
    "        return dSdt, dIdt, dRdt\n",
    "    y_0 = s_0, i_0, r_0\n",
    "    ret = odeint(deriv, y_0, t, args=(population, beta, gamma))\n",
    "    _, infected_people, _ = ret.transpose()\n",
    "    return t, infected_people"
   ]
  },
  {
   "cell_type": "markdown",
   "metadata": {},
   "source": [
    "Say we have only have access to noisy measurements of how many people were sick on a certain day: "
   ]
  },
  {
   "cell_type": "code",
   "execution_count": 4,
   "metadata": {},
   "outputs": [],
   "source": [
    "# time, infected_people = generate_covid_19_infection_rate_data()\n",
    "# n_samples = 2\n",
    "# noise = 0.001\n",
    "# inputs = np.array([])\n",
    "# targets = np.array([])\n",
    "# for day, sick_people_that_day in zip(time, infected_people):\n",
    "#     inputs = np.append(inputs, np.full(n_samples, day))\n",
    "#     targets = np.append(targets, np.random.normal(\n",
    "#     sick_people_that_day, noise * sick_people_that_day, n_samples))"
   ]
  },
  {
   "cell_type": "code",
   "execution_count": 12,
   "metadata": {},
   "outputs": [],
   "source": [
    "# Some hyperparameters\n",
    "def make_model(sess):\n",
    "    mlp_dict = dict(\n",
    "        learning_rate=0.0003,\n",
    "        n_layers=3,\n",
    "        hidden_size=12,\n",
    "        activation=tf.nn.tanh,\n",
    "        anchor=True,\n",
    "        init_std_bias=3.0,\n",
    "        init_std_weights=3.5,\n",
    "        data_noise=0.1\n",
    "    )\n",
    "    return MLPEnsemble(\n",
    "        sess=sess,\n",
    "        inputs_dim=1,\n",
    "        outputs_dim=1,\n",
    "        ensemble_size=5,\n",
    "        n_epochs=500,\n",
    "        batch_size=50,\n",
    "        **mlp_dict\n",
    "    )"
   ]
  },
  {
   "cell_type": "markdown",
   "metadata": {},
   "source": [
    "Run the training loop:"
   ]
  },
  {
   "cell_type": "code",
   "execution_count": 13,
   "metadata": {},
   "outputs": [],
   "source": [
    "tf.reset_default_graph()"
   ]
  },
  {
   "cell_type": "code",
   "execution_count": null,
   "metadata": {},
   "outputs": [
    {
     "name": "stdout",
     "output_type": "stream",
     "text": [
      "Epoch  0  | Losses = [9.256951  2.7156851 4.2373757 4.2048826 3.2443972]\n",
      "Epoch  20  | Losses = [2.3854795 1.6426189 1.819205  2.0422266 1.8619099]\n",
      "Epoch  40  | Losses = [1.881753  1.513459  1.4129663 1.0461793 0.9837996]\n",
      "Epoch  60  | Losses = [1.4944091 1.4219629 1.1322116 0.7448701 0.7509633]\n",
      "Epoch  80  | Losses = [1.252746   1.3228705  0.9146128  0.631652   0.62730116]\n",
      "Epoch  100  | Losses = [0.9607249  1.1487646  0.79592735 0.57071304 0.5473259 ]\n",
      "Epoch  120  | Losses = [0.7631255  0.90146536 0.7254138  0.54008657 0.4911973 ]\n",
      "Epoch  140  | Losses = [0.6499147  0.7709295  0.6812794  0.5108353  0.45567626]\n",
      "Epoch  160  | Losses = [0.5715331  0.69666773 0.65127885 0.49457324 0.4298963 ]\n",
      "Epoch  180  | Losses = [0.5218493  0.6436904  0.6286409  0.48362303 0.40566608]\n",
      "Epoch  200  | Losses = [0.49702573 0.60699326 0.6096415  0.47879818 0.38499728]\n",
      "Epoch  220  | Losses = [0.48236883 0.5811115  0.59324056 0.4683935  0.36509648]\n"
     ]
    }
   ],
   "source": [
    "n_particles = 20\n",
    "x_true = np.arange(1.0, 5.0, 0.2)\n",
    "x_val_vanilla = np.arange(1.1,5.1,0.2)\n",
    "x_val = np.broadcast_to(x_val_vanilla, (n_particles, x_val_vanilla.shape[0]))\n",
    "x_val = np.reshape(x_val, (x_val.shape[0] * n_particles))\n",
    "data_mean = inputs.mean()\n",
    "data_std = inputs.std()\n",
    "x = np.squeeze((inputs - data_mean) / (data_std + 1e-8))\n",
    "x_test = (x_val - data_mean) / (data_std + 1e-8)\n",
    "batch_num = int(len(inputs) / 50)\n",
    "with tf.Session() as sess:\n",
    "    model = make_model(sess)\n",
    "    sess.run(tf.global_variables_initializer())\n",
    "    model.fit(x[:, np.newaxis], targets[:, np.newaxis])\n",
    "    mus, sigmas, preds = np.squeeze(model.predict(x_test[:, np.newaxis]))"
   ]
  },
  {
   "cell_type": "markdown",
   "metadata": {},
   "source": [
    "Reshaping back to (ensemble_size, n_particles, 365days). n_samples will help estimating aleatoric uncertainty and ensemble_size will help estimating epistemic uncertainty."
   ]
  },
  {
   "cell_type": "code",
   "execution_count": null,
   "metadata": {},
   "outputs": [],
   "source": [
    "fig, ax = plt.subplots(figsize=(10, 10))\n",
    "mu_pred = mus.mean(axis=0)\n",
    "sigma_pred = sigmas.mean(axis=0)\n",
    "ax.errorbar(x_val,mu_pred,yerr=np.absolute(sigma_pred),c='r',ls='None',marker='.',ms=10,label='predicted distributions')\n",
    "ax.scatter(inputs,targets,c='b',alpha=0.05,label='sampled data')\n",
    "ax.errorbar(x_true,f(x_true),yerr=noise*x_true,c='b',lw=2,ls='None',marker='.',ms=10,label='true distributions')\n",
    "ax.legend()"
   ]
  },
  {
   "cell_type": "code",
   "execution_count": null,
   "metadata": {
    "scrolled": true
   },
   "outputs": [],
   "source": [
    "pred = np.reshape(pred, \n",
    "                  (model.ensemble_size, n_particles, time.shape[0]))\n",
    "# # For more details on decomposition of uncertainties: http://proceedings.mlr.press/v80/depeweg18a/depeweg18a.pdf \n",
    "aleatoric_uncertainty = np.mean(np.std(pred, axis=1) ** 2, axis=0)\n",
    "epistemic_uncertainty = np.std(np.mean(pred, axis=1), axis=0) ** 2"
   ]
  },
  {
   "cell_type": "markdown",
   "metadata": {},
   "source": [
    "Do some plotting"
   ]
  },
  {
   "cell_type": "code",
   "execution_count": null,
   "metadata": {},
   "outputs": [],
   "source": [
    "fig = plt.figure(figsize=(12, 10), dpi= 80, facecolor='w', edgecolor='k')\n",
    "ax = fig.subplots()\n",
    "ax.set_ylim([-100, 15e3])\n",
    "ax.scatter(inputs, targets, color='#FF764D', alpha=0.6,\n",
    "           s=5, label='Infectious people a day')\n",
    "# for mlp in range(model.ensemble_size):\n",
    "#     ax.plot(time, np.mean(pred[mlp], axis=0), '-', color='#C20093', linewidth=1, label='Predictions')\n",
    "ax.fill_between(time, np.mean(pred, axis=(0, 1)) - np.sqrt(epistemic_uncertainty),\n",
    "                np.mean(pred, axis=(0, 1)) + np.sqrt(epistemic_uncertainty),\n",
    "                color='#FC206C', alpha=0.15, label='Epistemic uncertainty')\n",
    "ax.errorbar(time, np.mean(pred, axis=(0, 1)), yerr=np.sqrt(aleatoric_uncertainty), linewidth=0.0,\n",
    "             ecolor='silver', elinewidth=3, capsize=0.0, label='Aleatoric uncertainty', alpha=0.5)\n",
    "ax.legend(loc='upper right', fontsize='medium')\n",
    "plt.xlabel(\"Days\")\n",
    "plt.ylabel(\"Infectious people\")\n",
    "plt.show()"
   ]
  },
  {
   "cell_type": "code",
   "execution_count": null,
   "metadata": {},
   "outputs": [],
   "source": [
    "mus = np.reshape(mus, \n",
    "                  (model.ensemble_size, n_particles, time.shape[0]))\n",
    "sigmas = np.reshape(sigmas, \n",
    "                  (model.ensemble_size, n_particles, time.shape[0]))\n",
    "# # For more details on decomposition of uncertainties: http://proceedings.mlr.press/v80/depeweg18a/depeweg18a.pdf \n",
    "aleatoric_uncertainty = np.mean(sigmas ** 2, axis=(1, 0))\n",
    "epistemic_uncertainty = np.std(mus, axis=(1, 0)) ** 2"
   ]
  },
  {
   "cell_type": "code",
   "execution_count": null,
   "metadata": {},
   "outputs": [],
   "source": [
    "fig = plt.figure(figsize=(12, 10), dpi= 80, facecolor='w', edgecolor='k')\n",
    "ax = fig.subplots()\n",
    "ax.set_ylim([-100, 15e3])\n",
    "ax.scatter(inputs, targets, color='#FF764D', alpha=0.6,\n",
    "           s=5, label='Infectious people a day')\n",
    "ax.fill_between(time, np.mean(mus, axis=(0, 1)) - np.sqrt(epistemic_uncertainty),\n",
    "                np.mean(mus, axis=(0, 1)) + np.sqrt(epistemic_uncertainty),\n",
    "                color='#FC206C', alpha=0.15, label='Epistemic uncertainty')\n",
    "ax.errorbar(time, np.mean(mus, axis=(0, 1)), yerr=np.sqrt(aleatoric_uncertainty), linewidth=0.0,\n",
    "             ecolor='silver', elinewidth=3, capsize=0.0, label='Aleatoric uncertainty', alpha=0.5)\n",
    "plt.xlabel(\"Days\")\n",
    "plt.ylabel(\"Infectious people\")\n",
    "plt.show()"
   ]
  },
  {
   "cell_type": "code",
   "execution_count": 20,
   "metadata": {},
   "outputs": [
    {
     "ename": "NameError",
     "evalue": "name 'x_val_vanilla' is not defined",
     "output_type": "error",
     "traceback": [
      "\u001b[0;31m---------------------------------------------------------------------------\u001b[0m",
      "\u001b[0;31mNameError\u001b[0m                                 Traceback (most recent call last)",
      "\u001b[0;32m<ipython-input-20-fa1b04e0c6f4>\u001b[0m in \u001b[0;36m<module>\u001b[0;34m\u001b[0m\n\u001b[1;32m      1\u001b[0m mus = np.reshape(mus, \n\u001b[0;32m----> 2\u001b[0;31m                   (model.ensemble_size, n_particles, x_val_vanilla.shape[0]))\n\u001b[0m\u001b[1;32m      3\u001b[0m sigmas = np.reshape(sigmas, \n\u001b[1;32m      4\u001b[0m                   (model.ensemble_size, n_particles, x_val_vanilla.shape[0]))\n\u001b[1;32m      5\u001b[0m preds = np.reshape(preds, \n",
      "\u001b[0;31mNameError\u001b[0m: name 'x_val_vanilla' is not defined"
     ]
    }
   ],
   "source": [
    "mus = np.reshape(mus, \n",
    "                  (model.ensemble_size, n_particles, x_val_vanilla.shape[0]))\n",
    "sigmas = np.reshape(sigmas, \n",
    "                  (model.ensemble_size, n_particles, x_val_vanilla.shape[0]))\n",
    "preds = np.reshape(preds, \n",
    "                  (model.ensemble_size, n_particles, x_val_vanilla.shape[0]))\n",
    "aleatoric_uncertainty_explicit = np.mean(sigmas ** 2, axis=(0, 1))\n",
    "epistemic_uncertainty_explicit = np.std(mus, axis=(0, 1)) ** 2\n",
    "aleatoric_uncertainty = np.mean(np.std(preds, axis=1) ** 2, axis=0)\n",
    "epistemic_uncertainty = np.std(np.mean(preds, axis=1), axis=0) ** 2\n",
    "fig = plt.figure(figsize=(12, 10), dpi= 80, facecolor='w', edgecolor='k')\n",
    "ax1 = fig.add_subplot(211)\n",
    "ax1.plot(time, aleatoric_uncertainty, label='aleatoric')\n",
    "ax1.plot(time, aleatoric_uncertainty_explicit, label='aleatorc exp')\n",
    "ax1.plot(time, (time * noise) ** 2, label='ground truth')\n",
    "ax1.legend(loc='upper right', fontsize='medium')\n",
    "ax2 = fig.add_subplot(212)\n",
    "ax2.plot(time, epistemic_uncertainty, label='epistemic')\n",
    "ax2.plot(time, epistemic_uncertainty_explicit, label='epistemic exp')\n",
    "ax2.legend(loc='upper right', fontsize='medium')"
   ]
  },
  {
   "cell_type": "code",
   "execution_count": null,
   "metadata": {},
   "outputs": [],
   "source": []
  }
 ],
 "metadata": {
  "kernelspec": {
   "display_name": "Python 3",
   "language": "python",
   "name": "python3"
  },
  "language_info": {
   "codemirror_mode": {
    "name": "ipython",
    "version": 3
   },
   "file_extension": ".py",
   "mimetype": "text/x-python",
   "name": "python",
   "nbconvert_exporter": "python",
   "pygments_lexer": "ipython3",
   "version": "3.6.10"
  }
 },
 "nbformat": 4,
 "nbformat_minor": 4
}
