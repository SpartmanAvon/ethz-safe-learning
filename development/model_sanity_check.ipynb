{
 "cells": [
  {
   "cell_type": "markdown",
   "metadata": {},
   "source": [
    "# COVID-19 Spread Toy Example\n",
    "## Initilization Anchored NN Ensemble Sanity Check\n"
   ]
  },
  {
   "cell_type": "markdown",
   "metadata": {},
   "source": [
    "In this notebook I want to demonstrate that my tensorflow implementation of the ensemble neural network is actually working and useful. In the spirit of times, I will try to learn the _hypothetical_ spreading of the COVID-19 disease in the _hypothetical_ island of Wakanda through the period of one year."
   ]
  },
  {
   "cell_type": "code",
   "execution_count": 3,
   "metadata": {},
   "outputs": [
    {
     "name": "stderr",
     "output_type": "stream",
     "text": [
      "/home/yardenas/anaconda3/envs/rl/lib/python3.6/site-packages/tensorflow/python/framework/dtypes.py:526: FutureWarning: Passing (type, 1) or '1type' as a synonym of type is deprecated; in a future version of numpy, it will be understood as (type, (1,)) / '(1,)type'.\n",
      "  _np_qint8 = np.dtype([(\"qint8\", np.int8, 1)])\n",
      "/home/yardenas/anaconda3/envs/rl/lib/python3.6/site-packages/tensorflow/python/framework/dtypes.py:527: FutureWarning: Passing (type, 1) or '1type' as a synonym of type is deprecated; in a future version of numpy, it will be understood as (type, (1,)) / '(1,)type'.\n",
      "  _np_quint8 = np.dtype([(\"quint8\", np.uint8, 1)])\n",
      "/home/yardenas/anaconda3/envs/rl/lib/python3.6/site-packages/tensorflow/python/framework/dtypes.py:528: FutureWarning: Passing (type, 1) or '1type' as a synonym of type is deprecated; in a future version of numpy, it will be understood as (type, (1,)) / '(1,)type'.\n",
      "  _np_qint16 = np.dtype([(\"qint16\", np.int16, 1)])\n",
      "/home/yardenas/anaconda3/envs/rl/lib/python3.6/site-packages/tensorflow/python/framework/dtypes.py:529: FutureWarning: Passing (type, 1) or '1type' as a synonym of type is deprecated; in a future version of numpy, it will be understood as (type, (1,)) / '(1,)type'.\n",
      "  _np_quint16 = np.dtype([(\"quint16\", np.uint16, 1)])\n",
      "/home/yardenas/anaconda3/envs/rl/lib/python3.6/site-packages/tensorflow/python/framework/dtypes.py:530: FutureWarning: Passing (type, 1) or '1type' as a synonym of type is deprecated; in a future version of numpy, it will be understood as (type, (1,)) / '(1,)type'.\n",
      "  _np_qint32 = np.dtype([(\"qint32\", np.int32, 1)])\n",
      "/home/yardenas/anaconda3/envs/rl/lib/python3.6/site-packages/tensorflow/python/framework/dtypes.py:535: FutureWarning: Passing (type, 1) or '1type' as a synonym of type is deprecated; in a future version of numpy, it will be understood as (type, (1,)) / '(1,)type'.\n",
      "  np_resource = np.dtype([(\"resource\", np.ubyte, 1)])\n"
     ]
    }
   ],
   "source": [
    "from simba.infrastructure import MLPEnsemble, InitializationAnchoredNN\n",
    "import tensorflow as tf\n",
    "import numpy as np\n",
    "from scipy.integrate import odeint\n",
    "import matplotlib.pyplot as plt"
   ]
  },
  {
   "cell_type": "markdown",
   "metadata": {},
   "source": [
    "First we generate some data using the [SIR model](https://www.lewuathe.com/covid-19-dynamics-with-sir-model.html) of covid19: "
   ]
  },
  {
   "cell_type": "code",
   "execution_count": 4,
   "metadata": {},
   "outputs": [
    {
     "data": {
      "image/png": "[encoded data removed]",
      "text/plain": [
       "<Figure size 432x288 with 1 Axes>"
      ]
     },
     "metadata": {
      "needs_background": "light"
     },
     "output_type": "display_data"
    }
   ],
   "source": [
    "def f(x):\n",
    "    return x**2-6*x+9\n",
    "def data_generator(x,sigma_0,samples):\n",
    "    return np.random.normal(f(x),sigma_0*x,samples)\n",
    "n_samples = 50\n",
    "noise = 0.1\n",
    "inputs = np.array([])\n",
    "targets = np.array([])\n",
    "time = np.arange(1,5.2,0.2)\n",
    "for day in time:\n",
    "    inputs = np.append(inputs, np.full(n_samples, day))\n",
    "    targets = np.append(targets, data_generator(day, noise, n_samples))\n",
    "plt.scatter(inputs, targets)\n",
    "plt.show()"
   ]
  },
  {
   "cell_type": "code",
   "execution_count": 3,
   "metadata": {},
   "outputs": [],
   "source": [
    "def generate_covid_19_infection_rate_data():\n",
    "    # https://www.lewuathe.com/covid-19-dynamics-with-sir-model.html\n",
    "    # https://scipython.com/book/chapter-8-scipy/additional-examples/the-sir-epidemic-model/\n",
    "    population = 15000\n",
    "    days = 365\n",
    "    i_0, r_0 = 2, 0\n",
    "    s_0 = population - i_0 - r_0\n",
    "    beta, gamma = 0.3, 0.02\n",
    "    t = np.linspace(0, days, days)\n",
    "\n",
    "    def deriv(y, t, population, beta, gamma):\n",
    "        S, I, R = y\n",
    "        dSdt = -beta * S * I / population\n",
    "        dIdt = beta * S * I / population - gamma * I\n",
    "        dRdt = gamma * I\n",
    "        return dSdt, dIdt, dRdt\n",
    "    y_0 = s_0, i_0, r_0\n",
    "    ret = odeint(deriv, y_0, t, args=(population, beta, gamma))\n",
    "    _, infected_people, _ = ret.transpose()\n",
    "    return t, infected_people"
   ]
  },
  {
   "cell_type": "markdown",
   "metadata": {},
   "source": [
    "Say we have only have access to noisy measurements of how many people were sick on a certain day: "
   ]
  },
  {
   "cell_type": "code",
   "execution_count": 4,
   "metadata": {},
   "outputs": [],
   "source": [
    "# time, infected_people = generate_covid_19_infection_rate_data()\n",
    "# n_samples = 2\n",
    "# noise = 0.001\n",
    "# inputs = np.array([])\n",
    "# targets = np.array([])\n",
    "# for day, sick_people_that_day in zip(time, infected_people):\n",
    "#     inputs = np.append(inputs, np.full(n_samples, day))\n",
    "#     targets = np.append(targets, np.random.normal(\n",
    "#     sick_people_that_day, noise * sick_people_that_day, n_samples))"
   ]
  },
  {
   "cell_type": "code",
   "execution_count": 5,
   "metadata": {},
   "outputs": [],
   "source": [
    "# Some hyperparameters\n",
    "def make_model(sess):\n",
    "    mlp_dict = dict(\n",
    "        learning_rate=0.0003,\n",
    "        n_layers=3,\n",
    "        hidden_size=12,\n",
    "        activation=tf.nn.tanh,\n",
    "        anchor=False,\n",
    "        init_std_bias=100,\n",
    "        init_std_weights=3.5,\n",
    "        data_noise=0.1\n",
    "    )\n",
    "    return MLPEnsemble(\n",
    "        sess=sess,\n",
    "        inputs_dim=1,\n",
    "        outputs_dim=1,\n",
    "        ensemble_size=5,\n",
    "        n_epochs=500,\n",
    "        batch_size=50,\n",
    "        **mlp_dict\n",
    "    )"
   ]
  },
  {
   "cell_type": "markdown",
   "metadata": {},
   "source": [
    "Run the training loop:"
   ]
  },
  {
   "cell_type": "code",
   "execution_count": 32,
   "metadata": {},
   "outputs": [],
   "source": [
    "tf.reset_default_graph()"
   ]
  },
  {
   "cell_type": "code",
   "execution_count": 33,
   "metadata": {},
   "outputs": [
    {
     "name": "stdout",
     "output_type": "stream",
     "text": [
      "Epoch  0  | Losses = [ 2.8372302 10.652153   2.8326013  2.8588126  3.828412 ]\n",
      "Epoch  20  | Losses = [1.7852596 2.2047677 1.7666404 1.7553122 2.020428 ]\n",
      "Epoch  40  | Losses = [1.7270331 1.9221587 1.6973243 1.722507  1.7619207]\n",
      "Epoch  60  | Losses = [1.7138165 1.7986047 1.3226987 1.6902078 1.732054 ]\n",
      "Epoch  80  | Losses = [1.6920359  1.7575505  0.48557547 1.3979658  1.7164099 ]\n",
      "Epoch  100  | Losses = [1.5965135  1.7201256  0.39825207 0.4784561  1.6854756 ]\n",
      "Epoch  120  | Losses = [0.70504254 1.6492285  0.33489096 0.34276056 1.4926708 ]\n",
      "Epoch  140  | Losses = [0.4402902  1.4153101  0.28943586 0.25731972 0.6074689 ]\n",
      "Epoch  160  | Losses = [0.3055103  0.7608913  0.24348293 0.17892411 0.36420748]\n",
      "Epoch  180  | Losses = [0.21196893 0.51274925 0.2090016  0.13527113 0.24901597]\n",
      "Epoch  200  | Losses = [0.16330464 0.33042705 0.18681702 0.12901497 0.1736608 ]\n",
      "Epoch  220  | Losses = [0.12870333 0.22820778 0.1464712  0.10313215 0.13792352]\n",
      "Epoch  240  | Losses = [0.11569519 0.16628897 0.13884851 0.09708556 0.12489928]\n",
      "Epoch  260  | Losses = [0.10549307 0.13784216 0.11408515 0.08972225 0.10707016]\n",
      "Epoch  280  | Losses = [0.10624444 0.12171255 0.1065184  0.08845939 0.10829088]\n",
      "Epoch  300  | Losses = [0.09601521 0.11969924 0.09827787 0.08757222 0.09896334]\n",
      "Epoch  320  | Losses = [0.09385226 0.11866336 0.10729913 0.0857493  0.09727371]\n",
      "Epoch  340  | Losses = [0.09649099 0.09822157 0.09194706 0.10865375 0.0990313 ]\n",
      "Epoch  360  | Losses = [0.09672891 0.10855213 0.08600397 0.08358945 0.10206309]\n",
      "Epoch  380  | Losses = [0.10213292 0.10073558 0.09246385 0.08103205 0.0972069 ]\n",
      "Epoch  400  | Losses = [0.08250265 0.09272835 0.10058548 0.08572305 0.0974032 ]\n",
      "Epoch  420  | Losses = [0.08419932 0.09095666 0.09027036 0.08653463 0.09218004]\n",
      "Epoch  440  | Losses = [0.08701968 0.08920513 0.09376603 0.0835167  0.08835313]\n",
      "Epoch  460  | Losses = [0.0900913  0.08529839 0.09738123 0.08077021 0.0879153 ]\n",
      "Epoch  480  | Losses = [0.08459716 0.09733471 0.08883521 0.08051778 0.08693718]\n"
     ]
    }
   ],
   "source": [
    "n_particles = 20\n",
    "x_true = np.arange(1.0, 5.0, 0.2)\n",
    "x_val = np.arange(1.1,5.1,0.2)\n",
    "x_val = np.broadcast_to(x_val, (n_particles, x_vals.shape[0]))\n",
    "x_val = np.reshape(x_val, (x_val.shape[0] * n_particles))\n",
    "data_mean = inputs.mean()\n",
    "data_std = inputs.std()\n",
    "x = np.squeeze((inputs - data_mean) / (data_std + 1e-8))\n",
    "x_test = (x_val - data_mean) / (data_std + 1e-8)\n",
    "batch_num = int(len(inputs) / 50)\n",
    "with tf.Session() as sess:\n",
    "    model = make_model(sess)\n",
    "    sess.run(tf.global_variables_initializer())\n",
    "    model.fit(x[:, np.newaxis], targets[:, np.newaxis])\n",
    "    mus, sigmas, preds = np.squeeze(model.predict(x_test[:, np.newaxis]))"
   ]
  },
  {
   "cell_type": "markdown",
   "metadata": {},
   "source": [
    "Reshaping back to (ensemble_size, n_particles, 365days). n_samples will help estimating aleatoric uncertainty and ensemble_size will help estimating epistemic uncertainty."
   ]
  },
  {
   "cell_type": "code",
   "execution_count": 38,
   "metadata": {},
   "outputs": [
    {
     "data": {
      "text/plain": [
       "<matplotlib.legend.Legend at 0x7f5b040f49e8>"
      ]
     },
     "execution_count": 38,
     "metadata": {},
     "output_type": "execute_result"
    },
    {
     "data": {
      "image/png": "[encoded data removed]",
      "text/plain": [
       "<Figure size 720x720 with 1 Axes>"
      ]
     },
     "metadata": {
      "needs_background": "light"
     },
     "output_type": "display_data"
    }
   ],
   "source": [
    "fig, ax = plt.subplots(figsize=(10, 10))\n",
    "mu_pred = mus.mean(axis=0)\n",
    "sigma_pred = sigmas.mean(axis=0)\n",
    "ax.errorbar(x_val,mu_pred,yerr=np.absolute(sigma_pred),c='r',ls='None',marker='.',ms=10,label='predicted distributions')\n",
    "ax.scatter(inputs,targets,c='b',alpha=0.05,label='sampled data')\n",
    "ax.errorbar(x_true,f(x_true),yerr=noise*x_true,c='b',lw=2,ls='None',marker='.',ms=10,label='true distributions')\n",
    "ax.legend()"
   ]
  },
  {
   "cell_type": "code",
   "execution_count": 8,
   "metadata": {
    "scrolled": true
   },
   "outputs": [
    {
     "ename": "NameError",
     "evalue": "name 'pred' is not defined",
     "output_type": "error",
     "traceback": [
      "\u001b[0;31m---------------------------------------------------------------------------\u001b[0m",
      "\u001b[0;31mNameError\u001b[0m                                 Traceback (most recent call last)",
      "\u001b[0;32m<ipython-input-8-b689d256624a>\u001b[0m in \u001b[0;36m<module>\u001b[0;34m\u001b[0m\n\u001b[0;32m----> 1\u001b[0;31m pred = np.reshape(pred, \n\u001b[0m\u001b[1;32m      2\u001b[0m                   (model.ensemble_size, n_particles, time.shape[0]))\n\u001b[1;32m      3\u001b[0m \u001b[0;31m# # For more details on decomposition of uncertainties: http://proceedings.mlr.press/v80/depeweg18a/depeweg18a.pdf\u001b[0m\u001b[0;34m\u001b[0m\u001b[0;34m\u001b[0m\u001b[0;34m\u001b[0m\u001b[0m\n\u001b[1;32m      4\u001b[0m \u001b[0maleatoric_uncertainty\u001b[0m \u001b[0;34m=\u001b[0m \u001b[0mnp\u001b[0m\u001b[0;34m.\u001b[0m\u001b[0mmean\u001b[0m\u001b[0;34m(\u001b[0m\u001b[0mnp\u001b[0m\u001b[0;34m.\u001b[0m\u001b[0mstd\u001b[0m\u001b[0;34m(\u001b[0m\u001b[0mpred\u001b[0m\u001b[0;34m,\u001b[0m \u001b[0maxis\u001b[0m\u001b[0;34m=\u001b[0m\u001b[0;36m1\u001b[0m\u001b[0;34m)\u001b[0m \u001b[0;34m**\u001b[0m \u001b[0;36m2\u001b[0m\u001b[0;34m,\u001b[0m \u001b[0maxis\u001b[0m\u001b[0;34m=\u001b[0m\u001b[0;36m0\u001b[0m\u001b[0;34m)\u001b[0m\u001b[0;34m\u001b[0m\u001b[0;34m\u001b[0m\u001b[0m\n\u001b[1;32m      5\u001b[0m \u001b[0mepistemic_uncertainty\u001b[0m \u001b[0;34m=\u001b[0m \u001b[0mnp\u001b[0m\u001b[0;34m.\u001b[0m\u001b[0mstd\u001b[0m\u001b[0;34m(\u001b[0m\u001b[0mnp\u001b[0m\u001b[0;34m.\u001b[0m\u001b[0mmean\u001b[0m\u001b[0;34m(\u001b[0m\u001b[0mpred\u001b[0m\u001b[0;34m,\u001b[0m \u001b[0maxis\u001b[0m\u001b[0;34m=\u001b[0m\u001b[0;36m1\u001b[0m\u001b[0;34m)\u001b[0m\u001b[0;34m,\u001b[0m \u001b[0maxis\u001b[0m\u001b[0;34m=\u001b[0m\u001b[0;36m0\u001b[0m\u001b[0;34m)\u001b[0m \u001b[0;34m**\u001b[0m \u001b[0;36m2\u001b[0m\u001b[0;34m\u001b[0m\u001b[0;34m\u001b[0m\u001b[0m\n",
      "\u001b[0;31mNameError\u001b[0m: name 'pred' is not defined"
     ]
    }
   ],
   "source": [
    "pred = np.reshape(pred, \n",
    "                  (model.ensemble_size, n_particles, time.shape[0]))\n",
    "# # For more details on decomposition of uncertainties: http://proceedings.mlr.press/v80/depeweg18a/depeweg18a.pdf \n",
    "aleatoric_uncertainty = np.mean(np.std(pred, axis=1) ** 2, axis=0)\n",
    "epistemic_uncertainty = np.std(np.mean(pred, axis=1), axis=0) ** 2"
   ]
  },
  {
   "cell_type": "markdown",
   "metadata": {},
   "source": [
    "Do some plotting"
   ]
  },
  {
   "cell_type": "code",
   "execution_count": null,
   "metadata": {},
   "outputs": [],
   "source": [
    "fig = plt.figure(figsize=(12, 10), dpi= 80, facecolor='w', edgecolor='k')\n",
    "ax = fig.subplots()\n",
    "ax.set_ylim([-100, 15e3])\n",
    "ax.scatter(inputs, targets, color='#FF764D', alpha=0.6,\n",
    "           s=5, label='Infectious people a day')\n",
    "# for mlp in range(model.ensemble_size):\n",
    "#     ax.plot(time, np.mean(pred[mlp], axis=0), '-', color='#C20093', linewidth=1, label='Predictions')\n",
    "ax.fill_between(time, np.mean(pred, axis=(0, 1)) - np.sqrt(epistemic_uncertainty),\n",
    "                np.mean(pred, axis=(0, 1)) + np.sqrt(epistemic_uncertainty),\n",
    "                color='#FC206C', alpha=0.15, label='Epistemic uncertainty')\n",
    "ax.errorbar(time, np.mean(pred, axis=(0, 1)), yerr=np.sqrt(aleatoric_uncertainty), linewidth=0.0,\n",
    "             ecolor='silver', elinewidth=3, capsize=0.0, label='Aleatoric uncertainty', alpha=0.5)\n",
    "ax.legend(loc='upper right', fontsize='medium')\n",
    "plt.xlabel(\"Days\")\n",
    "plt.ylabel(\"Infectious people\")\n",
    "plt.show()"
   ]
  },
  {
   "cell_type": "code",
   "execution_count": null,
   "metadata": {},
   "outputs": [],
   "source": [
    "mus = np.reshape(mus, \n",
    "                  (model.ensemble_size, n_particles, time.shape[0]))\n",
    "sigmas = np.reshape(sigmas, \n",
    "                  (model.ensemble_size, n_particles, time.shape[0]))\n",
    "# # For more details on decomposition of uncertainties: http://proceedings.mlr.press/v80/depeweg18a/depeweg18a.pdf \n",
    "aleatoric_uncertainty = np.mean(sigmas ** 2, axis=(1, 0))\n",
    "epistemic_uncertainty = np.std(mus, axis=(1, 0)) ** 2"
   ]
  },
  {
   "cell_type": "code",
   "execution_count": null,
   "metadata": {},
   "outputs": [],
   "source": [
    "fig = plt.figure(figsize=(12, 10), dpi= 80, facecolor='w', edgecolor='k')\n",
    "ax = fig.subplots()\n",
    "ax.set_ylim([-100, 15e3])\n",
    "ax.scatter(inputs, targets, color='#FF764D', alpha=0.6,\n",
    "           s=5, label='Infectious people a day')\n",
    "ax.fill_between(time, np.mean(mus, axis=(0, 1)) - np.sqrt(epistemic_uncertainty),\n",
    "                np.mean(mus, axis=(0, 1)) + np.sqrt(epistemic_uncertainty),\n",
    "                color='#FC206C', alpha=0.15, label='Epistemic uncertainty')\n",
    "ax.errorbar(time, np.mean(mus, axis=(0, 1)), yerr=np.sqrt(aleatoric_uncertainty), linewidth=0.0,\n",
    "             ecolor='silver', elinewidth=3, capsize=0.0, label='Aleatoric uncertainty', alpha=0.5)\n",
    "plt.xlabel(\"Days\")\n",
    "plt.ylabel(\"Infectious people\")\n",
    "plt.show()"
   ]
  },
  {
   "cell_type": "code",
   "execution_count": 36,
   "metadata": {},
   "outputs": [
    {
     "ename": "ValueError",
     "evalue": "cannot reshape array of size 2000 into shape (5,20,21)",
     "output_type": "error",
     "traceback": [
      "\u001b[0;31m---------------------------------------------------------------------------\u001b[0m",
      "\u001b[0;31mValueError\u001b[0m                                Traceback (most recent call last)",
      "\u001b[0;32m<ipython-input-36-f03f6f1a2ea4>\u001b[0m in \u001b[0;36m<module>\u001b[0;34m\u001b[0m\n\u001b[1;32m      1\u001b[0m mus = np.reshape(mus, \n\u001b[0;32m----> 2\u001b[0;31m                   (model.ensemble_size, n_particles, time.shape[0]))\n\u001b[0m\u001b[1;32m      3\u001b[0m sigmas = np.reshape(sigmas, \n\u001b[1;32m      4\u001b[0m                   (model.ensemble_size, n_particles, time.shape[0]))\n\u001b[1;32m      5\u001b[0m preds = np.reshape(preds, \n",
      "\u001b[0;32m<__array_function__ internals>\u001b[0m in \u001b[0;36mreshape\u001b[0;34m(*args, **kwargs)\u001b[0m\n",
      "\u001b[0;32m~/anaconda3/envs/rl/lib/python3.6/site-packages/numpy/core/fromnumeric.py\u001b[0m in \u001b[0;36mreshape\u001b[0;34m(a, newshape, order)\u001b[0m\n\u001b[1;32m    299\u001b[0m            [5, 6]])\n\u001b[1;32m    300\u001b[0m     \"\"\"\n\u001b[0;32m--> 301\u001b[0;31m     \u001b[0;32mreturn\u001b[0m \u001b[0m_wrapfunc\u001b[0m\u001b[0;34m(\u001b[0m\u001b[0ma\u001b[0m\u001b[0;34m,\u001b[0m \u001b[0;34m'reshape'\u001b[0m\u001b[0;34m,\u001b[0m \u001b[0mnewshape\u001b[0m\u001b[0;34m,\u001b[0m \u001b[0morder\u001b[0m\u001b[0;34m=\u001b[0m\u001b[0morder\u001b[0m\u001b[0;34m)\u001b[0m\u001b[0;34m\u001b[0m\u001b[0;34m\u001b[0m\u001b[0m\n\u001b[0m\u001b[1;32m    302\u001b[0m \u001b[0;34m\u001b[0m\u001b[0m\n\u001b[1;32m    303\u001b[0m \u001b[0;34m\u001b[0m\u001b[0m\n",
      "\u001b[0;32m~/anaconda3/envs/rl/lib/python3.6/site-packages/numpy/core/fromnumeric.py\u001b[0m in \u001b[0;36m_wrapfunc\u001b[0;34m(obj, method, *args, **kwds)\u001b[0m\n\u001b[1;32m     59\u001b[0m \u001b[0;34m\u001b[0m\u001b[0m\n\u001b[1;32m     60\u001b[0m     \u001b[0;32mtry\u001b[0m\u001b[0;34m:\u001b[0m\u001b[0;34m\u001b[0m\u001b[0;34m\u001b[0m\u001b[0m\n\u001b[0;32m---> 61\u001b[0;31m         \u001b[0;32mreturn\u001b[0m \u001b[0mbound\u001b[0m\u001b[0;34m(\u001b[0m\u001b[0;34m*\u001b[0m\u001b[0margs\u001b[0m\u001b[0;34m,\u001b[0m \u001b[0;34m**\u001b[0m\u001b[0mkwds\u001b[0m\u001b[0;34m)\u001b[0m\u001b[0;34m\u001b[0m\u001b[0;34m\u001b[0m\u001b[0m\n\u001b[0m\u001b[1;32m     62\u001b[0m     \u001b[0;32mexcept\u001b[0m \u001b[0mTypeError\u001b[0m\u001b[0;34m:\u001b[0m\u001b[0;34m\u001b[0m\u001b[0;34m\u001b[0m\u001b[0m\n\u001b[1;32m     63\u001b[0m         \u001b[0;31m# A TypeError occurs if the object does have such a method in its\u001b[0m\u001b[0;34m\u001b[0m\u001b[0;34m\u001b[0m\u001b[0;34m\u001b[0m\u001b[0m\n",
      "\u001b[0;31mValueError\u001b[0m: cannot reshape array of size 2000 into shape (5,20,21)"
     ]
    }
   ],
   "source": [
    "mus = np.reshape(mus, \n",
    "                  (model.ensemble_size, n_particles, time.shape[0]))\n",
    "sigmas = np.reshape(sigmas, \n",
    "                  (model.ensemble_size, n_particles, time.shape[0]))\n",
    "preds = np.reshape(preds, \n",
    "                  (model.ensemble_size, n_particles, time.shape[0]))\n",
    "aleatoric_uncertainty_explicit = np.mean(sigmas ** 2, axis=(0, 1))\n",
    "epistemic_uncertainty_explicit = np.std(mus, axis=(0, 1)) ** 2\n",
    "aleatoric_uncertainty = np.mean(np.std(preds, axis=1) ** 2, axis=0)\n",
    "epistemic_uncertainty = np.std(np.mean(preds, axis=1), axis=0) ** 2\n",
    "fig = plt.figure(figsize=(12, 10), dpi= 80, facecolor='w', edgecolor='k')\n",
    "ax1 = fig.add_subplot(211)\n",
    "ax1.plot(time, aleatoric_uncertainty, label='aleatoric')\n",
    "ax1.plot(time, aleatoric_uncertainty_explicit, label='aleatorc exp')\n",
    "ax1.plot(time, (time * noise) ** 2, label='ground truth')\n",
    "ax1.legend(loc='upper right', fontsize='medium')\n",
    "ax2 = fig.add_subplot(212)\n",
    "ax2.plot(time, epistemic_uncertainty, label='epistemic')\n",
    "ax2.plot(time, epistemic_uncertainty_explicit, label='epistemic exp')\n",
    "ax2.legend(loc='upper right', fontsize='medium')"
   ]
  },
  {
   "cell_type": "code",
   "execution_count": null,
   "metadata": {},
   "outputs": [],
   "source": []
  }
 ],
 "metadata": {
  "kernelspec": {
   "display_name": "Python 3",
   "language": "python",
   "name": "python3"
  },
  "language_info": {
   "codemirror_mode": {
    "name": "ipython",
    "version": 3
   },
   "file_extension": ".py",
   "mimetype": "text/x-python",
   "name": "python",
   "nbconvert_exporter": "python",
   "pygments_lexer": "ipython3",
   "version": "3.6.10"
  }
 },
 "nbformat": 4,
 "nbformat_minor": 4
}
